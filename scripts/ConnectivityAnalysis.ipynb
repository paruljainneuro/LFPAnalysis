{
 "cells": [
  {
   "cell_type": "markdown",
   "id": "2e10fcb8-b5a1-4d5e-b092-42e92afca88b",
   "metadata": {},
   "source": [
    "In this notebook we are going to compute different connectivity measures and aggregate them into a dataframe. \n",
    "\n",
    "Broad picture: re-referenced iEEG data goes in, connectivity (usually within specific frequency bands) between electrodes comes out. Either one measure per trial (computed across timepoints), or one measure per timepoint (computed across trials)\n",
    "\n",
    "To read more about implementation details for the different connectivity metrics here, read: https://mne.tools/mne-connectivity/stable/index.html\n",
    "\n",
    "To read more about connectivity measures in iEEG data overall, read: \n",
    "\n",
    "Solomon, E.A. (2023). How Can I Analyze Connectivity in iEEG Data?. In: Axmacher, N. (eds) Intracranial EEG. Studies in Neuroscience, Psychology and Behavioral Economics. Springer, Cham. https://doi.org/10.1007/978-3-031-20910-9_32"
   ]
  },
  {
   "cell_type": "code",
   "execution_count": 1,
   "id": "5d6ce32b-1041-43ef-a521-31ce0accd7e1",
   "metadata": {
    "tags": []
   },
   "outputs": [],
   "source": [
    "%matplotlib inline\n",
    "%reload_ext autoreload\n",
    "%autoreload 2"
   ]
  },
  {
   "cell_type": "code",
   "execution_count": 2,
   "id": "2dc956c2-2cee-4c5a-bd77-d34fed96d387",
   "metadata": {
    "tags": []
   },
   "outputs": [],
   "source": [
    "import numpy as np\n",
    "import mne\n",
    "import matplotlib.pyplot as plt\n",
    "import pandas as pd\n",
    "import os \n",
    "from IPython.display import clear_output\n",
    "import warnings \n",
    "\n",
    "# I only want to see warnings once\n",
    "warnings.filterwarnings('ignore')"
   ]
  },
  {
   "cell_type": "markdown",
   "id": "3f6c3205-eb1e-49f7-8605-fa5bc6f91c9d",
   "metadata": {},
   "source": [
    "Note: If you have installed this package in editable form on Minerva, you must append the local path! This is because Minerva requires that you point your package installs away from the local directory for space reasons, but editable packages have to be installed locally."
   ]
  },
  {
   "cell_type": "code",
   "execution_count": 3,
   "id": "8c0d35fa-19ad-4bb2-a7f3-16d8eeb297d0",
   "metadata": {
    "tags": []
   },
   "outputs": [],
   "source": [
    "import sys\n",
    "sys.path.append('/hpc/users/qasims01/resources/LFPAnalysis')  # INSERT PATH TO LFPAnalysis package"
   ]
  },
  {
   "cell_type": "code",
   "execution_count": 4,
   "id": "a4c7105e-461e-4285-939d-1ce9d679bcf6",
   "metadata": {
    "tags": []
   },
   "outputs": [
    {
     "ename": "ModuleNotFoundError",
     "evalue": "No module named 'LFPAnalysis'",
     "output_type": "error",
     "traceback": [
      "\u001b[0;31m---------------------------------------------------------------------------\u001b[0m",
      "\u001b[0;31mModuleNotFoundError\u001b[0m                       Traceback (most recent call last)",
      "Cell \u001b[0;32mIn[4], line 1\u001b[0m\n\u001b[0;32m----> 1\u001b[0m \u001b[38;5;28;01mfrom\u001b[39;00m \u001b[38;5;21;01mLFPAnalysis\u001b[39;00m \u001b[38;5;28;01mimport\u001b[39;00m oscillation_utils\n",
      "\u001b[0;31mModuleNotFoundError\u001b[0m: No module named 'LFPAnalysis'"
     ]
    }
   ],
   "source": [
    "from LFPAnalysis import oscillation_utils"
   ]
  },
  {
   "cell_type": "markdown",
   "id": "2d880360",
   "metadata": {},
   "source": [
    "## Example: computing coherence"
   ]
  },
  {
   "cell_type": "code",
   "execution_count": null,
   "id": "de8c2c5e",
   "metadata": {},
   "outputs": [],
   "source": [
    "# Explicitly define a list of analysis events and the baseline event. Should correspond to the dict\n",
    "\n",
    "evs = {'gamble_start':[-1.0, 0], \n",
    "       'feedback_start': [0, 1.5]}\n",
    "\n",
    "analysis_evs = ['feedback_start']\n",
    "\n",
    "for i in analysis_evs: \n",
    "    if i not in evs.keys(): \n",
    "        raise ValueError('This analysis event is not in the dictionary')"
   ]
  },
  {
   "cell_type": "code",
   "execution_count": null,
   "id": "e6c3d8e6",
   "metadata": {},
   "outputs": [],
   "source": [
    "metric = 'coh'\n",
    "freqs = np.logspace(*np.log10([2, 200]), num=30)\n",
    "n_cycles = np.floor(np.logspace(*np.log10([3, 10]), num=30))\n",
    "\n",
    "freq_dict = {'theta':[2, 8], \n",
    "            'alpha':[8, 13],\n",
    "            'beta': [13, 30], \n",
    "            'hfa': [70, 200]}\n",
    "\n",
    "band0 = 'theta'\n",
    "# don't really need this second term unless looking cross-frequency, but it's hard-coded in  \n",
    "band1 = band1\n",
    "\n",
    "buf_ms = 1000\n",
    "n_surr = 500\n",
    "\n",
    "savepath = '' # INSERT PATH TO SAVE DATA\n",
    "if not os.path.exists(savepath):\n",
    "    os.makedirs(savepath)"
   ]
  },
  {
   "cell_type": "code",
   "execution_count": null,
   "id": "25cf1037",
   "metadata": {},
   "outputs": [],
   "source": [
    "# Example here: All-to-amygdala coherence \n",
    "\n",
    "pairs = (['AMY', 'HPC'], ['AMY', 'OFC'], ['AMY', 'dmPFC'], ['AMY', 'ACC'])\n",
    "\n",
    "for pair in pairs:\n",
    "    source_region = pair[0]\n",
    "    target_region = pair[1]\n",
    "    \n",
    "    # initialize the storage list \n",
    "    conn_group_data = []\n",
    "\n",
    "    # iterate through subjects\n",
    "    for subj_id in subj_ids:\n",
    "        for event in analysis_evs:\n",
    "            loadpath = ''  # INSERT PATH TO LOAD RE-REFERENCED DATA\n",
    "            epochs_reref = mne.read_epochs(f'{loadpath}/{event}-epo.fif', preload=True) # INSERT PATH TO LOAD RE-REFERENCED DATA\n",
    "\n",
    "            # Get electrode df \n",
    "            elec_df = pd.read_csv('') # INSERT PATH TO LOAD ELECTRODE DATA\n",
    "\n",
    "            # construct the seed-to-target mapping based on your rois - matters most for directional measures\n",
    "            # I restrict this to intra-hemispheric connectivity by default - you can relax this assumption if need be\n",
    "            seed_target_df = oscillation_utils.make_seed_target_df(elec_df, epochs_reref, source_region, target_region)\n",
    "\n",
    "            # for cond in conditions: \n",
    "            for hemi in ['l', 'r']:\n",
    "                # first determine if intra-hemispheric connectivity is even possible; if not, move on. \n",
    "                if hemi not in seed_target_df.index.tolist():\n",
    "                    continue\n",
    "                else:\n",
    "                    seed_to_target = seed_target_indices(\n",
    "                        seed_target_df['seed'][hemi],\n",
    "                        seed_target_df['target'][hemi])\n",
    "                \n",
    "                if metric == 'amp':\n",
    "                    pwise = oscillation_utils.compute_connectivity(epochs_reref.copy(), \n",
    "                                               band = freq_dict[band0], \n",
    "                                               metric = metric, \n",
    "                                               indices = seed_to_target, \n",
    "                                               freqs = None, \n",
    "                                               n_cycles = None,\n",
    "                                               buf_ms = buf_ms, \n",
    "                                               n_surr=n_surr,\n",
    "                                               avg_over_dim='time',\n",
    "                                               band1 = freq_dict[band1])\n",
    "                    \n",
    "                elif metric == 'granger': \n",
    "                    pwise = oscillation_utils.compute_gc_tr(mne_data=epochs_reref.copy(), \n",
    "                            band=freq_dict[band0],\n",
    "                            indices=seed_to_target, \n",
    "                            freqs=freqs, \n",
    "                            n_cycles=n_cycles,\n",
    "                            rank=None, \n",
    "                            gc_n_lags=15, \n",
    "                            buf_ms=buf_ms, \n",
    "                            avg_over_dim='time')\n",
    "                    \n",
    "                else:\n",
    "                    pwise = oscillation_utils.compute_connectivity(epochs_reref.copy(), \n",
    "                                               band = freq_dict[band0], \n",
    "                                               metric = metric, \n",
    "                                               indices = seed_to_target, \n",
    "                                               freqs = freqs, \n",
    "                                               n_cycles = n_cycles,\n",
    "                                               buf_ms = buf_ms, \n",
    "                                               n_surr=n_surr,\n",
    "                                               avg_over_dim='time',\n",
    "                                               band1 = freq_dict[band1],\n",
    "                                               parallelize=True)\n",
    "\n",
    "                # Collect the data\n",
    "                pwise_dfs = []\n",
    "\n",
    "                if metric in ['gc', 'granger', 'cacoh']:\n",
    "                    # no pairs here: computed over whole multivariate state space \n",
    "                    npairs=1\n",
    "                else:\n",
    "                    npairs = len(seed_to_target[0])\n",
    "                    \n",
    "                for pair in range(npairs): \n",
    "                    pwise_df = pd.DataFrame(columns=['participant', 'roi1', 'roi2', 'hemi', 'pair_label', 'metric', 'event', 'conn'])\n",
    "                    pwise_df['conn'] = pwise[:, pair] \n",
    "                    pwise_df['participant'] = subj_id\n",
    "                    pwise_df['age'] = subj_df[subj_df.MSSMCode==subj_id].Age.values[0]\n",
    "                    pwise_df['sex'] = subj_df[subj_df.MSSMCode==subj_id].Sex.str.strip().values[0]\n",
    "                    pwise_df['roi1'] = source_region\n",
    "                    pwise_df['roi2'] = target_region\n",
    "                    pwise_df['hemi'] = hemi \n",
    "                    pwise_df['metric'] = metric\n",
    "                    pwise_df['event'] = event\n",
    "                    pwise_df['band0'] = band0\n",
    "                    pwise_df['band1'] =  band1\n",
    "                    \n",
    "                    # aggregate\n",
    "                    pwise_dfs.append(pwise_df)\n",
    "                pwise_dfs = pd.concat(pwise_dfs)\n",
    "                conn_group_data.append(pwise_dfs)\n",
    "\n",
    "    all_pairs_df = pd.concat(conn_group_data)\n",
    "    all_pairs_df.to_csv(f'{savepath}/{source_region}_{target_region}_{metric}_{band0}_{band1}_{event}_df', index=False)\n",
    "\n"
   ]
  },
  {
   "cell_type": "code",
   "execution_count": 154,
   "id": "19513db0",
   "metadata": {},
   "outputs": [
    {
     "data": {
      "text/plain": [
       "<matplotlib.image.AxesImage at 0x2ba055b47d30>"
      ]
     },
     "execution_count": 154,
     "metadata": {},
     "output_type": "execute_result"
    },
    {
     "data": {
      "image/png": "[encoded data removed]",
      "text/plain": [
       "<Figure size 640x480 with 1 Axes>"
      ]
     },
     "metadata": {},
     "output_type": "display_data"
    }
   ],
   "source": [
    "plt.imshow(pwise, cmap='magma')\n"
   ]
  }
 ],
 "metadata": {
  "kernelspec": {
   "display_name": "lfpanalysis",
   "language": "python",
   "name": "lfpanalysis"
  },
  "language_info": {
   "codemirror_mode": {
    "name": "ipython",
    "version": 3
   },
   "file_extension": ".py",
   "mimetype": "text/x-python",
   "name": "python",
   "nbconvert_exporter": "python",
   "pygments_lexer": "ipython3",
   "version": "3.10.8"
  }
 },
 "nbformat": 4,
 "nbformat_minor": 5
}
